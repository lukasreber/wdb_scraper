{
 "metadata": {
  "language_info": {
   "codemirror_mode": {
    "name": "ipython",
    "version": 3
   },
   "file_extension": ".py",
   "mimetype": "text/x-python",
   "name": "python",
   "nbconvert_exporter": "python",
   "pygments_lexer": "ipython3",
   "version": "3.8.3-final"
  },
  "orig_nbformat": 2,
  "kernelspec": {
   "name": "python3",
   "display_name": "Python 3.8.3 64-bit ('myvenv')",
   "metadata": {
    "interpreter": {
     "hash": "e4169395429c304b6be1848b8d4cd0e811385c9eb3dbc04355ed4a042331df65"
    }
   }
  }
 },
 "nbformat": 4,
 "nbformat_minor": 2,
 "cells": [
  {
   "cell_type": "code",
   "execution_count": 39,
   "metadata": {},
   "outputs": [],
   "source": [
    "# using ChromeDriver 89\n",
    "\n",
    "from selenium import webdriver\n",
    "from selenium.webdriver.common.keys import Keys # used to send keys\n",
    "\n",
    "# https://selenium-python.readthedocs.io/waits.html\n",
    "from selenium.webdriver.common.by import By\n",
    "from selenium.webdriver.support.ui import WebDriverWait\n",
    "from selenium.webdriver.support import expected_conditions as EC\n",
    "\n",
    "\n",
    "PATH = './ChromeDriver/chromedriver'\n",
    "driver = webdriver.Chrome(PATH)"
   ]
  },
  {
   "cell_type": "code",
   "execution_count": 41,
   "metadata": {},
   "outputs": [
    {
     "output_type": "stream",
     "name": "stdout",
     "text": [
      "Gratis Inserate in deiner Nähe - tutti.ch\n"
     ]
    }
   ],
   "source": [
    "# opening a website\n",
    "driver.get(\"https://tutti.ch\")\n",
    "\n",
    "# get title\n",
    "print(driver.title)"
   ]
  },
  {
   "cell_type": "code",
   "execution_count": 42,
   "metadata": {},
   "outputs": [],
   "source": [
    "# using the search bar\n",
    "search = driver.find_element_by_name('search')\n",
    "search.send_keys('test')\n",
    "search.send_keys(Keys.RETURN)"
   ]
  },
  {
   "cell_type": "code",
   "execution_count": 43,
   "metadata": {},
   "outputs": [
    {
     "output_type": "stream",
     "name": "stdout",
     "text": [
      "Top Wii Games (Einzelverkauf, siehe Beschreibung)\n",
      "Top PS2 Games (Einzelverkauf, siehe Beschreibung)\n",
      "\n",
      "Englisch 5./6. Klasse & Übungsblock Englisch 5./6. Klasse\n",
      "Nintendo Switch Neu\n",
      "iPod Nano - 1st Generation !!!\n",
      "Gitarren Ankauf / Tausch / Testen\n",
      "Maxxus Lifeplate 3.1 Vibrationstrainer mit Funksender\n",
      "TAMRON SP 24-70mm F/2.8 Di VC USD CANON\n",
      "STRAUSS MERTENS startet ab sofort seine MEGA Aktion!\n",
      "E-Bike Wheeler E-Falcon - 29 Zoll Räder\n",
      "Anki Cozmo Roboter\n",
      "Alesis ADAT XT 8 + IMG Stage Line 19\" Rack Case\n",
      "Nintendo DS Spiel; Gehirn Jogging\n",
      "Cyclette ergometro orizzontale\n",
      "Automatik Batterieladegerät HP\n",
      "Luftbefeuchter\n",
      "Brother P-Touch M-K221BZ 9mm schwarz/weiss\n",
      "Samsung Galaxy Buds\n",
      "1 Million Parfum - NEU!\n",
      "15.6 Zoll, Acer Aspire mit Windows 10, Office 2019, SSD\n",
      "Robuste Hundebox in gutem Zustand\n",
      "VMF AGM Deep Cycle EV Batterie 12 V 63 Ah EV12-63 test websh\n",
      "JBL Harman InEar Kopfhörer Wireless Reflect Flow\n",
      "HEAD WORLDCUP REBELS i GSR SLR 155 cm; TEST 2020 Ski\n",
      "HEAD WORLDCUP REBELS i RACE 165 cm; TEST 2020 Ski\n",
      "HEAD SUPERSHAPE i RALLY 170 cm; TEST 2020 Ski\n",
      "HEAD WORLDCUP REBELS i GSR 170 cm; TEST 2020 RENN_Ski\n",
      "Ten out of ten\n",
      "Wer wird Millionär?\n",
      "Zaunprüfer mit Digitalanzeige, Digital Volt Meter\n",
      "Batterietester Energy Check LCD 10x3,4x19,5 cm\n",
      "Pons Englisch für Fortgeschrittene Komplettkurs\n"
     ]
    }
   ],
   "source": [
    "# make sure page is loaded\n",
    "try:\n",
    "    main = WebDriverWait(driver, 10).until(\n",
    "        EC.presence_of_element_located((By.ID, \"root\"))\n",
    "    )\n",
    "    # find all titles by xpath search\n",
    "    test = driver.find_elements_by_xpath('//a[@data-automation=\"ad-subject\"]')\n",
    "    for title in test:\n",
    "        print(title.text)\n",
    "except:\n",
    "    driver.quit()\n"
   ]
  },
  {
   "cell_type": "code",
   "execution_count": 9,
   "metadata": {},
   "outputs": [],
   "source": [
    "# close the browser\n",
    "driver.quit()"
   ]
  }
 ]
}