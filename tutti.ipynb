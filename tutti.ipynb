{
 "metadata": {
  "language_info": {
   "codemirror_mode": {
    "name": "ipython",
    "version": 3
   },
   "file_extension": ".py",
   "mimetype": "text/x-python",
   "name": "python",
   "nbconvert_exporter": "python",
   "pygments_lexer": "ipython3",
   "version": "3.8.3-final"
  },
  "orig_nbformat": 2,
  "kernelspec": {
   "name": "python3",
   "display_name": "Python 3.8.3 64-bit ('myvenv')",
   "metadata": {
    "interpreter": {
     "hash": "e4169395429c304b6be1848b8d4cd0e811385c9eb3dbc04355ed4a042331df65"
    }
   }
  }
 },
 "nbformat": 4,
 "nbformat_minor": 2,
 "cells": [
  {
   "cell_type": "code",
   "execution_count": 91,
   "metadata": {},
   "outputs": [],
   "source": [
    "# using ChromeDriver 89\n",
    "\n",
    "from selenium import webdriver\n",
    "from selenium.webdriver.common.keys import Keys # used to send keys\n",
    "\n",
    "# https://selenium-python.readthedocs.io/waits.html\n",
    "from selenium.webdriver.common.by import By\n",
    "from selenium.webdriver.support.ui import WebDriverWait\n",
    "from selenium.webdriver.support import expected_conditions as EC\n",
    "\n",
    "import re\n"
   ]
  },
  {
   "cell_type": "code",
   "execution_count": 163,
   "metadata": {},
   "outputs": [
    {
     "output_type": "stream",
     "name": "stdout",
     "text": [
      "Gratis Inserate in deiner Nähe - tutti.ch\n"
     ]
    }
   ],
   "source": [
    "PATH = './ChromeDriver/chromedriver'\n",
    "driver = webdriver.Chrome(PATH)\n",
    "\n",
    "# opening a website\n",
    "driver.get(\"https://tutti.ch\")\n",
    "\n",
    "# get title\n",
    "print(driver.title)"
   ]
  },
  {
   "cell_type": "code",
   "execution_count": 164,
   "metadata": {},
   "outputs": [],
   "source": [
    "searchterm = 'triptrapp'\n",
    "\n",
    "# using the search bar\n",
    "search = driver.find_element_by_name('search')\n",
    "search.clear()\n",
    "search.send_keys(searchterm)\n",
    "search.send_keys(Keys.RETURN)"
   ]
  },
  {
   "cell_type": "code",
   "execution_count": 165,
   "metadata": {},
   "outputs": [
    {
     "output_type": "stream",
     "name": "stdout",
     "text": [
      "number of search results: 46\n"
     ]
    }
   ],
   "source": [
    "# getting the number of pages / search results\n",
    "\n",
    "try:\n",
    "    root = WebDriverWait(driver, 10).until(\n",
    "        EC.presence_of_element_located((By.ID, \"root\"))\n",
    "    )\n",
    "    # find number of search results by xpath\n",
    "    num_results = root.find_element_by_css_selector('h1')\n",
    "    # for unknown reasons xpath contains doesnt work here: \n",
    "    # find_element_by_xpath(\"//*[contains(text(),'Inserate aus der ganzen Schweiz')]\")\n",
    "    n = re.findall(r'\\d+',num_results.text)\n",
    "    print(f'number of search results: {n[0]}')\n",
    "except:\n",
    "    driver.quit()"
   ]
  },
  {
   "cell_type": "code",
   "execution_count": 168,
   "metadata": {},
   "outputs": [
    {
     "output_type": "stream",
     "name": "stdout",
     "text": [
      "Stokke \"Baby Set\" zum Tripp Trapp (lindgrün)\n",
      "Stokke \"Baby Set\" zum Tripp Trapp (rot)\n",
      "Stokke \"Baby Set\" zum Tripp Trapp (soft pink)\n",
      "Stokke \"Baby Set\" zum Tripp Trapp (walnut brown)\n",
      "Stokke \"Baby Set\" zum Tripp Trapp (natural)\n",
      "Stokke Baby Set zum Tripp Trapp (grau - V2)\n",
      "Stokke \"Baby Set\" zum Tripp Trapp (hellgrau)\n",
      "Stokke \"Baby Set\" zum Tripp Trapp (weiss)\n",
      "Triptrapp grün\n",
      "Triptrapp rot\n",
      "Stokke \"Newborn Set\" zum Tripp Trapp (3)\n",
      "Stokke BEZUG zum Newborn Set (aqua star)\n",
      "Stokke \"Bezug\" zum Newborn Set (mehrere Motive)\n",
      "Triptrapp Bügel dunkelbraun\n",
      "Bequem umgebauter Triptrapp ohne Bügel vorne aus Massivholz\n",
      "Tripp Trapp rot STOKKE NEUES MODELL / NEWBORN SET PASST\n"
     ]
    }
   ],
   "source": [
    "# getting all titles\n",
    "try:\n",
    "    root = WebDriverWait(driver, 10).until(\n",
    "        EC.presence_of_element_located((By.ID, \"root\"))\n",
    "    )\n",
    "    # find all titles by xpath search\n",
    "    test = root.find_elements_by_xpath('//a[@data-automation=\"ad-subject\"]')\n",
    "    for title in test:\n",
    "        print(title.text)\n",
    "except:\n",
    "    driver.quit()\n"
   ]
  },
  {
   "cell_type": "code",
   "execution_count": 167,
   "metadata": {},
   "outputs": [],
   "source": [
    "# move to second page\n",
    "try:\n",
    "    element = WebDriverWait(driver, 10).until(\n",
    "        EC.presence_of_element_located((By.XPATH, '/html/body/div[2]/div/div/div/div[2]/div/div[1]/div/div/div/div[1]/div/div[6]/nav/ul/li[6]/a'))\n",
    "    )\n",
    "    element.click()\n",
    "except:\n",
    "    driver.quit()"
   ]
  },
  {
   "cell_type": "code",
   "execution_count": 104,
   "metadata": {},
   "outputs": [],
   "source": [
    "x = driver.find_element_by_id('next')"
   ]
  },
  {
   "cell_type": "code",
   "execution_count": 162,
   "metadata": {},
   "outputs": [],
   "source": [
    "# close the browser\n",
    "driver.quit()"
   ]
  },
  {
   "cell_type": "code",
   "execution_count": null,
   "metadata": {},
   "outputs": [],
   "source": []
  }
 ]
}